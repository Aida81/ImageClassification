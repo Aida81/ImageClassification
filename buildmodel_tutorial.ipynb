{
  "nbformat": 4,
  "nbformat_minor": 0,
  "metadata": {
    "kernelspec": {
      "display_name": "Python 3",
      "language": "python",
      "name": "python3"
    },
    "language_info": {
      "codemirror_mode": {
        "name": "ipython",
        "version": 3
      },
      "file_extension": ".py",
      "mimetype": "text/x-python",
      "name": "python",
      "nbconvert_exporter": "python",
      "pygments_lexer": "ipython3",
      "version": "3.6.12"
    },
    "colab": {
      "name": "buildmodel_tutorial.ipynb",
      "provenance": []
    }
  },
  "cells": [
    {
      "cell_type": "code",
      "metadata": {
        "id": "np71gvcnPejI"
      },
      "source": [
        "%matplotlib inline"
      ],
      "execution_count": 1,
      "outputs": []
    },
    {
      "cell_type": "markdown",
      "metadata": {
        "id": "ouOVtks9PejK"
      },
      "source": [
        "\n",
        "`Learn the Basics <intro.html>`_ ||\n",
        "`Quickstart <quickstart_tutorial.html>`_ || \n",
        "`Tensors <tensorqs_tutorial.html>`_ ||\n",
        "`Datasets & DataLoaders <data_tutorial.html>`_ ||\n",
        "`Transforms <transforms_tutorial.html>`_ ||\n",
        "**Build Model** ||\n",
        "`Autograd <autogradqs_tutorial.html>`_ ||\n",
        "`Optimization <optimization_tutorial.html>`_ ||\n",
        "`Save & Load Model <saveloadrun_tutorial.html>`_\n",
        "\n",
        "Build the Neural Network\n",
        "===================\n",
        "\n",
        "Neural networks comprise of layers/modules that perform operations on data. \n",
        "The `torch.nn <https://pytorch.org/docs/stable/nn.html>`_ namespace provides all the building blocks you need to \n",
        "build your own neural network. Every module in PyTorch subclasses the `nn.Module <https://pytorch.org/docs/stable/generated/torch.nn.Module.html>`_. \n",
        "A neural network is a module itself that consists of other modules (layers). This nested structure allows for\n",
        "building and managing complex architectures easily.\n",
        "\n",
        "In the following sections, we'll build a neural network to classify images in the FashionMNIST dataset.\n",
        "\n",
        "\n"
      ]
    },
    {
      "cell_type": "code",
      "metadata": {
        "id": "tiyfQ_8uPejL"
      },
      "source": [
        "import os\n",
        "import torch\n",
        "from torch import nn\n",
        "from torch.utils.data import DataLoader\n",
        "from torchvision import datasets, transforms"
      ],
      "execution_count": 2,
      "outputs": []
    },
    {
      "cell_type": "markdown",
      "metadata": {
        "id": "B3i5kjlQPejL"
      },
      "source": [
        "Get Device for Training\n",
        "-----------------------\n",
        "We want to be able to train our model on a hardware accelerator like the GPU, \n",
        "if it is available. Let's check to see if \n",
        "`torch.cuda <https://pytorch.org/docs/stable/notes/cuda.html>`_ is available, else we \n",
        "continue to use the CPU. \n",
        "\n"
      ]
    },
    {
      "cell_type": "code",
      "metadata": {
        "colab": {
          "base_uri": "https://localhost:8080/"
        },
        "id": "N_jpqJFaPejL",
        "outputId": "81e62278-e6b7-47f8-c994-8d958dc9e1c8"
      },
      "source": [
        "device = 'cuda' if torch.cuda.is_available() else 'cpu'\n",
        "print('Using {} device'.format(device))"
      ],
      "execution_count": 3,
      "outputs": [
        {
          "output_type": "stream",
          "text": [
            "Using cpu device\n"
          ],
          "name": "stdout"
        }
      ]
    },
    {
      "cell_type": "markdown",
      "metadata": {
        "id": "k2T1F_4LPejM"
      },
      "source": [
        "Define the Class\n",
        "-------------------------\n",
        "We define our neural network by subclassing ``nn.Module``, and \n",
        "initialize the neural network layers in ``__init__``. Every ``nn.Module`` subclass implements\n",
        "the operations on input data in the ``forward`` method. \n",
        "\n"
      ]
    },
    {
      "cell_type": "code",
      "metadata": {
        "id": "PFnitHPnPejM"
      },
      "source": [
        "class NeuralNetwork(nn.Module):\n",
        "    def __init__(self):\n",
        "        super(NeuralNetwork, self).__init__()\n",
        "        self.flatten = nn.Flatten()\n",
        "        self.linear_relu_stack = nn.Sequential(\n",
        "            nn.Linear(28*28, 512),\n",
        "            nn.ReLU(),\n",
        "            nn.Linear(512, 512),\n",
        "            nn.ReLU(),\n",
        "            nn.Linear(512, 10),\n",
        "            nn.ReLU()\n",
        "        )\n",
        "\n",
        "    def forward(self, x):\n",
        "        x = self.flatten(x)\n",
        "        logits = self.linear_relu_stack(x)\n",
        "        return logits"
      ],
      "execution_count": 4,
      "outputs": []
    },
    {
      "cell_type": "markdown",
      "metadata": {
        "id": "rWmxVeYOPejM"
      },
      "source": [
        "We create an instance of ``NeuralNetwork``, and move it to the ``device``, and print \n",
        "its structure.\n",
        "\n"
      ]
    },
    {
      "cell_type": "code",
      "metadata": {
        "colab": {
          "base_uri": "https://localhost:8080/"
        },
        "id": "oIEpMHT-PejN",
        "outputId": "6df4449d-2750-41d0-eb8f-1afb27d929cd"
      },
      "source": [
        "model = NeuralNetwork().to(device)\n",
        "print(model)"
      ],
      "execution_count": 5,
      "outputs": [
        {
          "output_type": "stream",
          "text": [
            "NeuralNetwork(\n",
            "  (flatten): Flatten(start_dim=1, end_dim=-1)\n",
            "  (linear_relu_stack): Sequential(\n",
            "    (0): Linear(in_features=784, out_features=512, bias=True)\n",
            "    (1): ReLU()\n",
            "    (2): Linear(in_features=512, out_features=512, bias=True)\n",
            "    (3): ReLU()\n",
            "    (4): Linear(in_features=512, out_features=10, bias=True)\n",
            "    (5): ReLU()\n",
            "  )\n",
            ")\n"
          ],
          "name": "stdout"
        }
      ]
    },
    {
      "cell_type": "markdown",
      "metadata": {
        "id": "1NBxKDmlPejN"
      },
      "source": [
        "To use the model, we pass it the input data. This executes the model's ``forward``,\n",
        "along with some `background operations <https://github.com/pytorch/pytorch/blob/270111b7b611d174967ed204776985cefca9c144/torch/nn/modules/module.py#L866>`_. \n",
        "Do not call ``model.forward()`` directly!\n",
        "\n",
        "Calling the model on the input returns a 10-dimensional tensor with raw predicted values for each class.\n",
        "We get the prediction probabilities by passing it through an instance of the ``nn.Softmax`` module.\n",
        "\n"
      ]
    },
    {
      "cell_type": "code",
      "metadata": {
        "colab": {
          "base_uri": "https://localhost:8080/"
        },
        "id": "gi2fQrsiPejN",
        "outputId": "75700d9f-ab95-4ac4-99d2-dfe73a01c56a"
      },
      "source": [
        "X = torch.rand(1, 28, 28, device=device)\n",
        "logits = model(X) \n",
        "pred_probab = nn.Softmax(dim=1)(logits)\n",
        "y_pred = pred_probab.argmax(1)\n",
        "print(f\"Predicted class: {y_pred}\")"
      ],
      "execution_count": 6,
      "outputs": [
        {
          "output_type": "stream",
          "text": [
            "Predicted class: tensor([8])\n"
          ],
          "name": "stdout"
        }
      ]
    },
    {
      "cell_type": "markdown",
      "metadata": {
        "id": "QDYx_TWYPejN"
      },
      "source": [
        "--------------\n",
        "\n",
        "\n"
      ]
    },
    {
      "cell_type": "markdown",
      "metadata": {
        "id": "lOkWAEJ_PejN"
      },
      "source": [
        "Model Layers\n",
        "-------------------------\n",
        "\n",
        "Let's break down the layers in the FashionMNIST model. To illustrate it, we \n",
        "will take a sample minibatch of 3 images of size 28x28 and see what happens to it as \n",
        "we pass it through the network. \n",
        "\n"
      ]
    },
    {
      "cell_type": "code",
      "metadata": {
        "colab": {
          "base_uri": "https://localhost:8080/"
        },
        "id": "S37DN3giPejO",
        "outputId": "751a6e18-b7ca-4787-de52-522d37b880db"
      },
      "source": [
        "input_image = torch.rand(3,28,28)\n",
        "print(input_image.size())"
      ],
      "execution_count": 7,
      "outputs": [
        {
          "output_type": "stream",
          "text": [
            "torch.Size([3, 28, 28])\n"
          ],
          "name": "stdout"
        }
      ]
    },
    {
      "cell_type": "markdown",
      "metadata": {
        "id": "FtFLhUr8PejO"
      },
      "source": [
        "nn.Flatten\n",
        "^^^^^^^^^^^^^^^^^^^^^^\n",
        "We initialize the `nn.Flatten  <https://pytorch.org/docs/stable/generated/torch.nn.Flatten.html>`_ \n",
        "layer to convert each 2D 28x28 image into a contiguous array of 784 pixel values (\n",
        "the minibatch dimension (at dim=0) is maintained).\n",
        "\n"
      ]
    },
    {
      "cell_type": "code",
      "metadata": {
        "colab": {
          "base_uri": "https://localhost:8080/"
        },
        "id": "la7pxydsPejO",
        "outputId": "7ae31b7d-1197-4b17-f337-d9bb5ec5228c"
      },
      "source": [
        "flatten = nn.Flatten()\n",
        "flat_image = flatten(input_image)\n",
        "print(flat_image.size())"
      ],
      "execution_count": 8,
      "outputs": [
        {
          "output_type": "stream",
          "text": [
            "torch.Size([3, 784])\n"
          ],
          "name": "stdout"
        }
      ]
    },
    {
      "cell_type": "markdown",
      "metadata": {
        "id": "gFd37N3YPejO"
      },
      "source": [
        "nn.Linear \n",
        "^^^^^^^^^^^^^^^^^^^^^^\n",
        "The `linear layer <https://pytorch.org/docs/stable/generated/torch.nn.Linear.html>`_\n",
        "is a module that applies a linear transformation on the input using its stored weights and biases.\n",
        "\n",
        "\n"
      ]
    },
    {
      "cell_type": "code",
      "metadata": {
        "colab": {
          "base_uri": "https://localhost:8080/"
        },
        "id": "PmfC8hIRPejO",
        "outputId": "c6591970-3488-4664-93c2-17a730f41415"
      },
      "source": [
        "layer1 = nn.Linear(in_features=28*28, out_features=20)\n",
        "hidden1 = layer1(flat_image)\n",
        "print(hidden1.size())"
      ],
      "execution_count": 9,
      "outputs": [
        {
          "output_type": "stream",
          "text": [
            "torch.Size([3, 20])\n"
          ],
          "name": "stdout"
        }
      ]
    },
    {
      "cell_type": "markdown",
      "metadata": {
        "id": "mLQWc13_PejO"
      },
      "source": [
        "nn.ReLU\n",
        "^^^^^^^^^^^^^^^^^^^^^^\n",
        "Non-linear activations are what create the complex mappings between the model's inputs and outputs.\n",
        "They are applied after linear transformations to introduce *nonlinearity*, helping neural networks\n",
        "learn a wide variety of phenomena.\n",
        "\n",
        "In this model, we use `nn.ReLU <https://pytorch.org/docs/stable/generated/torch.nn.ReLU.html>`_ between our\n",
        "linear layers, but there's other activations to introduce non-linearity in your model.\n",
        "\n"
      ]
    },
    {
      "cell_type": "code",
      "metadata": {
        "colab": {
          "base_uri": "https://localhost:8080/"
        },
        "id": "_SrguHqBPejP",
        "outputId": "8466c652-4401-4169-bfb6-8a0fa015d5b0"
      },
      "source": [
        "print(f\"Before ReLU: {hidden1}\\n\\n\")\n",
        "hidden1 = nn.ReLU()(hidden1)\n",
        "print(f\"After ReLU: {hidden1}\")"
      ],
      "execution_count": 10,
      "outputs": [
        {
          "output_type": "stream",
          "text": [
            "Before ReLU: tensor([[ 0.1184,  0.1408,  0.7245,  0.3834, -0.2904,  0.0226,  0.2818,  0.3907,\n",
            "          0.5083,  0.4105, -0.2908,  0.2036,  0.6986, -0.0667, -0.2172, -0.0015,\n",
            "          0.0092,  0.2304,  0.1093, -0.1119],\n",
            "        [ 0.3490,  0.1869,  0.2831,  0.5120, -0.0644,  0.1731,  0.1458, -0.0400,\n",
            "          0.6260,  0.2385, -0.4704,  0.0973,  0.2732, -0.0145, -0.3258,  0.5934,\n",
            "          0.1091,  0.6222,  0.3634, -0.1361],\n",
            "        [ 0.1912,  0.1085,  0.2927,  0.4264,  0.1178,  0.1766,  0.3555,  0.2584,\n",
            "          0.2803,  0.4997, -0.0284, -0.3933,  0.4068,  0.1653, -0.2784,  0.5203,\n",
            "          0.2385,  0.1843,  0.1213,  0.3620]], grad_fn=<AddmmBackward>)\n",
            "\n",
            "\n",
            "After ReLU: tensor([[0.1184, 0.1408, 0.7245, 0.3834, 0.0000, 0.0226, 0.2818, 0.3907, 0.5083,\n",
            "         0.4105, 0.0000, 0.2036, 0.6986, 0.0000, 0.0000, 0.0000, 0.0092, 0.2304,\n",
            "         0.1093, 0.0000],\n",
            "        [0.3490, 0.1869, 0.2831, 0.5120, 0.0000, 0.1731, 0.1458, 0.0000, 0.6260,\n",
            "         0.2385, 0.0000, 0.0973, 0.2732, 0.0000, 0.0000, 0.5934, 0.1091, 0.6222,\n",
            "         0.3634, 0.0000],\n",
            "        [0.1912, 0.1085, 0.2927, 0.4264, 0.1178, 0.1766, 0.3555, 0.2584, 0.2803,\n",
            "         0.4997, 0.0000, 0.0000, 0.4068, 0.1653, 0.0000, 0.5203, 0.2385, 0.1843,\n",
            "         0.1213, 0.3620]], grad_fn=<ReluBackward0>)\n"
          ],
          "name": "stdout"
        }
      ]
    },
    {
      "cell_type": "markdown",
      "metadata": {
        "id": "dPuuejjmPejP"
      },
      "source": [
        "nn.Sequential\n",
        "^^^^^^^^^^^^^^^^^^^^^^\n",
        "`nn.Sequential <https://pytorch.org/docs/stable/generated/torch.nn.Sequential.html>`_ is an ordered \n",
        "container of modules. The data is passed through all the modules in the same order as defined. You can use\n",
        "sequential containers to put together a quick network like ``seq_modules``.\n",
        "\n"
      ]
    },
    {
      "cell_type": "code",
      "metadata": {
        "id": "G04SQVHYPejP"
      },
      "source": [
        "seq_modules = nn.Sequential(\n",
        "    flatten,\n",
        "    layer1,\n",
        "    nn.ReLU(),\n",
        "    nn.Linear(20, 10)\n",
        ")\n",
        "input_image = torch.rand(3,28,28)\n",
        "logits = seq_modules(input_image)"
      ],
      "execution_count": 11,
      "outputs": []
    },
    {
      "cell_type": "markdown",
      "metadata": {
        "id": "AX9JzP9RPejP"
      },
      "source": [
        "nn.Softmax\n",
        "^^^^^^^^^^^^^^^^^^^^^^\n",
        "The last linear layer of the neural network returns `logits` - raw values in [-\\infty, \\infty] - which are passed to the\n",
        "`nn.Softmax <https://pytorch.org/docs/stable/generated/torch.nn.Softmax.html>`_ module. The logits are scaled to values \n",
        "[0, 1] representing the model's predicted probabilities for each class. ``dim`` parameter indicates the dimension along \n",
        "which the values must sum to 1. \n",
        "\n"
      ]
    },
    {
      "cell_type": "code",
      "metadata": {
        "id": "SW8l8012PejQ"
      },
      "source": [
        "softmax = nn.Softmax(dim=1)\n",
        "pred_probab = softmax(logits)"
      ],
      "execution_count": 12,
      "outputs": []
    },
    {
      "cell_type": "markdown",
      "metadata": {
        "id": "Ay2cwWHiPejQ"
      },
      "source": [
        "Model Parameters\n",
        "-------------------------\n",
        "Many layers inside a neural network are *parameterized*, i.e. have associated weights \n",
        "and biases that are optimized during training. Subclassing ``nn.Module`` automatically \n",
        "tracks all fields defined inside your model object, and makes all parameters \n",
        "accessible using your model's ``parameters()`` or ``named_parameters()`` methods. \n",
        "\n",
        "In this example, we iterate over each parameter, and print its size and a preview of its values. \n",
        "\n",
        "\n"
      ]
    },
    {
      "cell_type": "code",
      "metadata": {
        "colab": {
          "base_uri": "https://localhost:8080/"
        },
        "id": "kxMiw3fqPejQ",
        "outputId": "9bb32ce1-74a8-4d0b-cfb4-c8f3401ee146"
      },
      "source": [
        "print(\"Model structure: \", model, \"\\n\\n\")\n",
        "\n",
        "for name, param in model.named_parameters():\n",
        "    print(f\"Layer: {name} | Size: {param.size()} | Values : {param[:2]} \\n\")"
      ],
      "execution_count": 13,
      "outputs": [
        {
          "output_type": "stream",
          "text": [
            "Model structure:  NeuralNetwork(\n",
            "  (flatten): Flatten(start_dim=1, end_dim=-1)\n",
            "  (linear_relu_stack): Sequential(\n",
            "    (0): Linear(in_features=784, out_features=512, bias=True)\n",
            "    (1): ReLU()\n",
            "    (2): Linear(in_features=512, out_features=512, bias=True)\n",
            "    (3): ReLU()\n",
            "    (4): Linear(in_features=512, out_features=10, bias=True)\n",
            "    (5): ReLU()\n",
            "  )\n",
            ") \n",
            "\n",
            "\n",
            "Layer: linear_relu_stack.0.weight | Size: torch.Size([512, 784]) | Values : tensor([[-0.0055,  0.0069,  0.0270,  ..., -0.0325,  0.0239, -0.0159],\n",
            "        [ 0.0078,  0.0283, -0.0189,  ...,  0.0204,  0.0357, -0.0271]],\n",
            "       grad_fn=<SliceBackward>) \n",
            "\n",
            "Layer: linear_relu_stack.0.bias | Size: torch.Size([512]) | Values : tensor([ 0.0352, -0.0100], grad_fn=<SliceBackward>) \n",
            "\n",
            "Layer: linear_relu_stack.2.weight | Size: torch.Size([512, 512]) | Values : tensor([[ 0.0304, -0.0091, -0.0210,  ...,  0.0346,  0.0280,  0.0150],\n",
            "        [-0.0139,  0.0080, -0.0425,  ..., -0.0167,  0.0196,  0.0155]],\n",
            "       grad_fn=<SliceBackward>) \n",
            "\n",
            "Layer: linear_relu_stack.2.bias | Size: torch.Size([512]) | Values : tensor([-0.0178,  0.0158], grad_fn=<SliceBackward>) \n",
            "\n",
            "Layer: linear_relu_stack.4.weight | Size: torch.Size([10, 512]) | Values : tensor([[-8.4613e-03, -1.3023e-02,  3.2378e-02,  ...,  4.1429e-02,\n",
            "         -2.1635e-02, -1.8794e-02],\n",
            "        [-3.4921e-02,  5.9606e-05, -3.4147e-02,  ...,  4.3603e-02,\n",
            "          3.9211e-02, -3.6284e-02]], grad_fn=<SliceBackward>) \n",
            "\n",
            "Layer: linear_relu_stack.4.bias | Size: torch.Size([10]) | Values : tensor([-0.0404, -0.0297], grad_fn=<SliceBackward>) \n",
            "\n"
          ],
          "name": "stdout"
        }
      ]
    },
    {
      "cell_type": "markdown",
      "metadata": {
        "id": "ieO7JUvcPejQ"
      },
      "source": [
        "--------------\n",
        "\n",
        "\n"
      ]
    },
    {
      "cell_type": "markdown",
      "metadata": {
        "id": "EE5pOplgPejQ"
      },
      "source": [
        "Further Reading\n",
        "--------------\n",
        "- `torch.nn API <https://pytorch.org/docs/stable/nn.html>`_\n",
        "\n"
      ]
    }
  ]
}