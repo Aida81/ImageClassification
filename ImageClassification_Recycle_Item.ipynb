{
  "nbformat": 4,
  "nbformat_minor": 0,
  "metadata": {
    "kernelspec": {
      "display_name": "Python 3",
      "language": "python",
      "name": "python3"
    },
    "language_info": {
      "codemirror_mode": {
        "name": "ipython",
        "version": 3
      },
      "file_extension": ".py",
      "mimetype": "text/x-python",
      "name": "python",
      "nbconvert_exporter": "python",
      "pygments_lexer": "ipython3",
      "version": "3.6.4"
    },
    "colab": {
      "name": "ImageClassification-Recycle Item.ipynb",
      "provenance": []
    }
  },
  "cells": [
    {
      "cell_type": "markdown",
      "metadata": {
        "id": "nWxbtIPAf_eD"
      },
      "source": [
        "# Import Libraries"
      ]
    },
    {
      "cell_type": "markdown",
      "metadata": {
        "id": "j0z7N7vZwjzq"
      },
      "source": [
        ""
      ]
    },
    {
      "cell_type": "code",
      "metadata": {
        "id": "bwp6NIrsZZFP",
        "colab": {
          "base_uri": "https://localhost:8080/",
          "height": 342
        },
        "outputId": "8ef90d58-da0f-4eea-bd05-2776359750f1"
      },
      "source": [
        "# Check if NVIDIA GPU is enabled\n",
        "!nvidia-smi"
      ],
      "execution_count": null,
      "outputs": [
        {
          "output_type": "stream",
          "text": [
            "Sun Oct  4 08:16:57 2020       \n",
            "+-----------------------------------------------------------------------------+\n",
            "| NVIDIA-SMI 455.23.05    Driver Version: 418.67       CUDA Version: 10.1     |\n",
            "|-------------------------------+----------------------+----------------------+\n",
            "| GPU  Name        Persistence-M| Bus-Id        Disp.A | Volatile Uncorr. ECC |\n",
            "| Fan  Temp  Perf  Pwr:Usage/Cap|         Memory-Usage | GPU-Util  Compute M. |\n",
            "|                               |                      |               MIG M. |\n",
            "|===============================+======================+======================|\n",
            "|   0  Tesla P100-PCIE...  Off  | 00000000:00:04.0 Off |                    0 |\n",
            "| N/A   32C    P0    25W / 250W |      0MiB / 16280MiB |      0%      Default |\n",
            "|                               |                      |                 ERR! |\n",
            "+-------------------------------+----------------------+----------------------+\n",
            "                                                                               \n",
            "+-----------------------------------------------------------------------------+\n",
            "| Processes:                                                                  |\n",
            "|  GPU   GI   CI        PID   Type   Process name                  GPU Memory |\n",
            "|        ID   ID                                                   Usage      |\n",
            "|=============================================================================|\n",
            "|  No running processes found                                                 |\n",
            "+-----------------------------------------------------------------------------+\n"
          ],
          "name": "stdout"
        }
      ]
    },
    {
      "cell_type": "code",
      "metadata": {
        "_cell_guid": "b1076dfc-b9ad-4769-8c92-a6c4dae69d19",
        "_uuid": "8f2839f25d086af736a60e9eeb907d3b93b6e0e5",
        "id": "Tg39C-_Wf_eJ"
      },
      "source": [
        "import numpy as np\n",
        "import cv2\n",
        "from keras.callbacks import ModelCheckpoint,EarlyStopping\n",
        "from keras.layers import Conv2D, Flatten, MaxPooling2D,Dense,Dropout,SpatialDropout2D\n",
        "from keras.models  import Sequential\n",
        "from keras.preprocessing.image import ImageDataGenerator, img_to_array, load_img, array_to_img\n",
        "import random,os,glob\n",
        "import matplotlib.pyplot as plt"
      ],
      "execution_count": null,
      "outputs": []
    },
    {
      "cell_type": "markdown",
      "metadata": {
        "id": "WwguVaXAf_eX"
      },
      "source": [
        "## Dataset Input"
      ]
    },
    {
      "cell_type": "code",
      "metadata": {
        "id": "9e9ZW3sqMEPO"
      },
      "source": [
        "from google.colab import drive\n",
        "drive.mount('/content/gdrive')\n",
        "!ln -s /content/gdrive/My\\ Drive/ /mydrive\n",
        "!ls /mydrive"
      ],
      "execution_count": null,
      "outputs": []
    },
    {
      "cell_type": "code",
      "metadata": {
        "id": "jhb5nZvsQ_96"
      },
      "source": [
        "!unzip /mydrive/yolov-try/images.zip -d data/obj"
      ],
      "execution_count": null,
      "outputs": []
    },
    {
      "cell_type": "markdown",
      "metadata": {
        "id": "nNUOlPrBv2sQ"
      },
      "source": [
        ""
      ]
    },
    {
      "cell_type": "code",
      "metadata": {
        "id": "NiHATO0Ff_ew",
        "outputId": "c26cd67a-652d-4c1c-8e7a-607f8b992b8b"
      },
      "source": [
        "len(img_list)"
      ],
      "execution_count": null,
      "outputs": [
        {
          "output_type": "execute_result",
          "data": {
            "text/plain": [
              "2527"
            ]
          },
          "metadata": {
            "tags": []
          },
          "execution_count": 107
        }
      ]
    },
    {
      "cell_type": "markdown",
      "metadata": {
        "id": "R8yt_EmLf_e7"
      },
      "source": [
        "# Image Augmentation"
      ]
    },
    {
      "cell_type": "code",
      "metadata": {
        "id": "eYBw2Lwvf_e9",
        "outputId": "bb362bee-c114-4bf7-c1c2-19af5218cf28"
      },
      "source": [
        "train=ImageDataGenerator(horizontal_flip=True,\n",
        "                         vertical_flip=True,\n",
        "                         validation_split=0.1,\n",
        "                         rescale=1./255,\n",
        "                         shear_range = 0.1,\n",
        "                         zoom_range = 0.1,\n",
        "                         width_shift_range = 0.1,\n",
        "                         height_shift_range = 0.1,)\n",
        "\n",
        "test=ImageDataGenerator(rescale=1/255,\n",
        "                        validation_split=0.1)\n",
        "\n",
        "train_generator=train.flow_from_directory(dir_path,\n",
        "                                          target_size=(300,300),\n",
        "                                          batch_size=32,\n",
        "                                          class_mode='categorical',\n",
        "                                          subset='training')\n",
        "\n",
        "test_generator=test.flow_from_directory(dir_path,\n",
        "                                        target_size=(300,300),\n",
        "                                        batch_size=32,\n",
        "                                        class_mode='categorical',\n",
        "                                        subset='validation')\n",
        "\n",
        "labels = (train_generator.class_indices)\n",
        "print(labels)\n",
        "\n",
        "labels = dict((v,k) for k,v in labels.items())\n",
        "print(labels)"
      ],
      "execution_count": null,
      "outputs": [
        {
          "output_type": "stream",
          "text": [
            "Found 2276 images belonging to 6 classes.\n",
            "Found 251 images belonging to 6 classes.\n",
            "{'cardboard': 0, 'glass': 1, 'metal': 2, 'paper': 3, 'plastic': 4, 'trash': 5}\n",
            "{0: 'cardboard', 1: 'glass', 2: 'metal', 3: 'paper', 4: 'plastic', 5: 'trash'}\n"
          ],
          "name": "stdout"
        }
      ]
    },
    {
      "cell_type": "code",
      "metadata": {
        "id": "-qcdfW9_f_fK",
        "outputId": "849bb570-edf5-4a3f-a069-9ffd82a206ec"
      },
      "source": [
        "for image_batch, label_batch in train_generator:\n",
        "  break\n",
        "image_batch.shape, label_batch.shape"
      ],
      "execution_count": null,
      "outputs": [
        {
          "output_type": "execute_result",
          "data": {
            "text/plain": [
              "((32, 300, 300, 3), (32, 6))"
            ]
          },
          "metadata": {
            "tags": []
          },
          "execution_count": 109
        }
      ]
    },
    {
      "cell_type": "markdown",
      "metadata": {
        "id": "0l4P8Epjf_fW"
      },
      "source": [
        "### Writing the labels file"
      ]
    },
    {
      "cell_type": "code",
      "metadata": {
        "id": "1EozS8_Hf_fb",
        "outputId": "b36a4d53-d134-423f-e910-e5d98538692e"
      },
      "source": [
        "print (train_generator.class_indices)\n",
        "\n",
        "Labels = '\\n'.join(sorted(train_generator.class_indices.keys()))\n",
        "\n",
        "with open('labels.txt', 'w') as f:\n",
        "  f.write(Labels)\n"
      ],
      "execution_count": null,
      "outputs": [
        {
          "output_type": "stream",
          "text": [
            "{'cardboard': 0, 'glass': 1, 'metal': 2, 'paper': 3, 'plastic': 4, 'trash': 5}\n"
          ],
          "name": "stdout"
        }
      ]
    },
    {
      "cell_type": "markdown",
      "metadata": {
        "id": "Bq3504Muf_fs"
      },
      "source": [
        "# Building CNN & Saving keras model"
      ]
    },
    {
      "cell_type": "code",
      "metadata": {
        "id": "qXQqejNUf_fu"
      },
      "source": [
        "model=Sequential()\n",
        "#Convolution blocks\n",
        "\n",
        "model.add(Conv2D(32,(3,3), padding='same',input_shape=(300,300,3),activation='relu'))\n",
        "model.add(MaxPooling2D(pool_size=2)) \n",
        "#model.add(SpatialDropout2D(0.5)) # No accuracy\n",
        "\n",
        "model.add(Conv2D(64,(3,3), padding='same',activation='relu'))\n",
        "model.add(MaxPooling2D(pool_size=2)) \n",
        "#model.add(SpatialDropout2D(0.5))\n",
        "\n",
        "model.add(Conv2D(32,(3,3), padding='same',activation='relu'))\n",
        "model.add(MaxPooling2D(pool_size=2)) \n",
        "\n",
        "#Classification layers\n",
        "model.add(Flatten())\n",
        "\n",
        "model.add(Dense(64,activation='relu'))\n",
        "#model.add(SpatialDropout2D(0.5))\n",
        "model.add(Dropout(0.2))\n",
        "model.add(Dense(32,activation='relu'))\n",
        "\n",
        "model.add(Dropout(0.2))\n",
        "model.add(Dense(6,activation='softmax'))\n",
        "\n",
        "filepath=\"trained_model.h5\"\n",
        "checkpoint1 = ModelCheckpoint(filepath, monitor='val_acc', verbose=1, save_best_only=True, mode='max')\n",
        "callbacks_list = [checkpoint1]\n",
        "\n"
      ],
      "execution_count": null,
      "outputs": []
    },
    {
      "cell_type": "markdown",
      "metadata": {
        "id": "82FJqpc9f_f5"
      },
      "source": [
        "Reference: [Callback model Checkpoint](https://machinelearningmastery.com/how-to-stop-training-deep-neural-networks-at-the-right-time-using-early-stopping/)"
      ]
    },
    {
      "cell_type": "markdown",
      "metadata": {
        "id": "WG7hIMTlf_f7"
      },
      "source": [
        "# Summarizing our model"
      ]
    },
    {
      "cell_type": "code",
      "metadata": {
        "id": "X55hyVZkf_f9",
        "outputId": "0e3f0da0-dbcf-413d-c8c0-d24cd382cf79"
      },
      "source": [
        "model.summary()"
      ],
      "execution_count": null,
      "outputs": [
        {
          "output_type": "stream",
          "text": [
            "_________________________________________________________________\n",
            "Layer (type)                 Output Shape              Param #   \n",
            "=================================================================\n",
            "conv2d_55 (Conv2D)           (None, 300, 300, 32)      896       \n",
            "_________________________________________________________________\n",
            "max_pooling2d_43 (MaxPooling (None, 150, 150, 32)      0         \n",
            "_________________________________________________________________\n",
            "conv2d_56 (Conv2D)           (None, 150, 150, 64)      18496     \n",
            "_________________________________________________________________\n",
            "max_pooling2d_44 (MaxPooling (None, 75, 75, 64)        0         \n",
            "_________________________________________________________________\n",
            "conv2d_57 (Conv2D)           (None, 75, 75, 32)        18464     \n",
            "_________________________________________________________________\n",
            "max_pooling2d_45 (MaxPooling (None, 37, 37, 32)        0         \n",
            "_________________________________________________________________\n",
            "flatten_17 (Flatten)         (None, 43808)             0         \n",
            "_________________________________________________________________\n",
            "dense_41 (Dense)             (None, 64)                2803776   \n",
            "_________________________________________________________________\n",
            "dropout_27 (Dropout)         (None, 64)                0         \n",
            "_________________________________________________________________\n",
            "dense_42 (Dense)             (None, 32)                2080      \n",
            "_________________________________________________________________\n",
            "dropout_28 (Dropout)         (None, 32)                0         \n",
            "_________________________________________________________________\n",
            "dense_43 (Dense)             (None, 6)                 198       \n",
            "=================================================================\n",
            "Total params: 2,843,910\n",
            "Trainable params: 2,843,910\n",
            "Non-trainable params: 0\n",
            "_________________________________________________________________\n"
          ],
          "name": "stdout"
        }
      ]
    },
    {
      "cell_type": "markdown",
      "metadata": {
        "id": "rljbA0VXf_gI"
      },
      "source": [
        "### Compiling Model using categorical cross entropy loss function & Adam Optimizer"
      ]
    },
    {
      "cell_type": "code",
      "metadata": {
        "id": "ighhqw8ef_gK"
      },
      "source": [
        "model.compile(loss='categorical_crossentropy',\n",
        "              optimizer='adam',\n",
        "              metrics=['acc']) # RMS PROP - No accuracy\n",
        "\n",
        "#es=EarlyStopping(monitor='val_loss', mode='min', verbose=1, patience=50)\n"
      ],
      "execution_count": null,
      "outputs": []
    },
    {
      "cell_type": "markdown",
      "metadata": {
        "id": "oRPnoQyJf_gc"
      },
      "source": [
        "# Let's Train"
      ]
    },
    {
      "cell_type": "code",
      "metadata": {
        "id": "RUUPI24af_gf",
        "outputId": "de42a93b-e3cf-44a3-f891-c16da90da63f"
      },
      "source": [
        "history = model.fit_generator(train_generator,\n",
        "                              epochs=100,\n",
        "                              steps_per_epoch=2276//32,\n",
        "                              validation_data=test_generator,\n",
        "                              validation_steps=251//32,\n",
        "                              workers = 4,\n",
        "                              callbacks=callbacks_list) \n",
        "#41 epoch - 75% #73- 76.9%\n",
        "#78 epoch - 80%"
      ],
      "execution_count": null,
      "outputs": [
        {
          "output_type": "stream",
          "text": [
            "Epoch 1/100\n",
            "71/71 [==============================] - 43s 612ms/step - loss: 1.7293 - acc: 0.2342 - val_loss: 1.5916 - val_acc: 0.3080\n",
            "\n",
            "Epoch 00001: val_acc improved from -inf to 0.30804, saving model to trained_model.h5\n",
            "Epoch 2/100\n",
            "71/71 [==============================] - 37s 528ms/step - loss: 1.5835 - acc: 0.3398 - val_loss: 1.4499 - val_acc: 0.4110\n",
            "\n",
            "Epoch 00002: val_acc improved from 0.30804 to 0.41096, saving model to trained_model.h5\n",
            "Epoch 3/100\n",
            "71/71 [==============================] - 42s 590ms/step - loss: 1.4869 - acc: 0.3965 - val_loss: 1.3587 - val_acc: 0.4247\n",
            "\n",
            "Epoch 00003: val_acc improved from 0.41096 to 0.42466, saving model to trained_model.h5\n",
            "Epoch 4/100\n",
            "71/71 [==============================] - 40s 563ms/step - loss: 1.3710 - acc: 0.4581 - val_loss: 1.2475 - val_acc: 0.5297\n",
            "\n",
            "Epoch 00004: val_acc improved from 0.42466 to 0.52968, saving model to trained_model.h5\n",
            "Epoch 5/100\n",
            "71/71 [==============================] - 41s 584ms/step - loss: 1.3616 - acc: 0.4499 - val_loss: 1.2866 - val_acc: 0.4977\n",
            "\n",
            "Epoch 00005: val_acc did not improve from 0.52968\n",
            "Epoch 6/100\n",
            "71/71 [==============================] - 41s 576ms/step - loss: 1.3089 - acc: 0.4674 - val_loss: 1.2269 - val_acc: 0.5023\n",
            "\n",
            "Epoch 00006: val_acc did not improve from 0.52968\n",
            "Epoch 7/100\n",
            "71/71 [==============================] - 42s 597ms/step - loss: 1.3119 - acc: 0.4907 - val_loss: 1.3179 - val_acc: 0.5114\n",
            "\n",
            "Epoch 00007: val_acc did not improve from 0.52968\n",
            "Epoch 8/100\n",
            "71/71 [==============================] - 41s 577ms/step - loss: 1.2740 - acc: 0.5127 - val_loss: 1.1775 - val_acc: 0.5616\n",
            "\n",
            "Epoch 00008: val_acc improved from 0.52968 to 0.56164, saving model to trained_model.h5\n",
            "Epoch 9/100\n",
            "71/71 [==============================] - 41s 582ms/step - loss: 1.2699 - acc: 0.5092 - val_loss: 1.1235 - val_acc: 0.5848\n",
            "\n",
            "Epoch 00009: val_acc improved from 0.56164 to 0.58482, saving model to trained_model.h5\n",
            "Epoch 10/100\n",
            "71/71 [==============================] - 41s 572ms/step - loss: 1.2444 - acc: 0.5233 - val_loss: 1.2960 - val_acc: 0.4932\n",
            "\n",
            "Epoch 00010: val_acc did not improve from 0.58482\n",
            "Epoch 11/100\n",
            "71/71 [==============================] - 43s 604ms/step - loss: 1.1870 - acc: 0.5519 - val_loss: 1.1852 - val_acc: 0.5297\n",
            "\n",
            "Epoch 00011: val_acc did not improve from 0.58482\n",
            "Epoch 12/100\n",
            "71/71 [==============================] - 41s 582ms/step - loss: 1.1658 - acc: 0.5532 - val_loss: 1.0574 - val_acc: 0.6393\n",
            "\n",
            "Epoch 00012: val_acc improved from 0.58482 to 0.63927, saving model to trained_model.h5\n",
            "Epoch 13/100\n",
            "71/71 [==============================] - 42s 586ms/step - loss: 1.1297 - acc: 0.5620 - val_loss: 1.1230 - val_acc: 0.5845\n",
            "\n",
            "Epoch 00013: val_acc did not improve from 0.63927\n",
            "Epoch 14/100\n",
            "71/71 [==============================] - 41s 578ms/step - loss: 1.1528 - acc: 0.5603 - val_loss: 1.0586 - val_acc: 0.6484\n",
            "\n",
            "Epoch 00014: val_acc improved from 0.63927 to 0.64840, saving model to trained_model.h5\n",
            "Epoch 15/100\n",
            "71/71 [==============================] - 42s 597ms/step - loss: 1.1562 - acc: 0.5638 - val_loss: 1.0208 - val_acc: 0.6119\n",
            "\n",
            "Epoch 00015: val_acc did not improve from 0.64840\n",
            "Epoch 16/100\n",
            "71/71 [==============================] - 41s 576ms/step - loss: 1.0863 - acc: 0.5999 - val_loss: 1.0872 - val_acc: 0.5616\n",
            "\n",
            "Epoch 00016: val_acc did not improve from 0.64840\n",
            "Epoch 17/100\n",
            "71/71 [==============================] - 41s 584ms/step - loss: 1.0276 - acc: 0.6157 - val_loss: 1.1378 - val_acc: 0.5804\n",
            "\n",
            "Epoch 00017: val_acc did not improve from 0.64840\n",
            "Epoch 18/100\n",
            "71/71 [==============================] - 42s 591ms/step - loss: 1.0792 - acc: 0.5933 - val_loss: 1.1300 - val_acc: 0.5616\n",
            "\n",
            "Epoch 00018: val_acc did not improve from 0.64840\n",
            "Epoch 19/100\n",
            "71/71 [==============================] - 42s 588ms/step - loss: 1.0448 - acc: 0.6052 - val_loss: 1.0269 - val_acc: 0.6210\n",
            "\n",
            "Epoch 00019: val_acc did not improve from 0.64840\n",
            "Epoch 20/100\n",
            "71/71 [==============================] - 40s 569ms/step - loss: 0.9885 - acc: 0.6417 - val_loss: 1.0417 - val_acc: 0.5845\n",
            "\n",
            "Epoch 00020: val_acc did not improve from 0.64840\n",
            "Epoch 21/100\n",
            "71/71 [==============================] - 42s 587ms/step - loss: 1.0365 - acc: 0.6038 - val_loss: 1.0025 - val_acc: 0.6210\n",
            "\n",
            "Epoch 00021: val_acc did not improve from 0.64840\n",
            "Epoch 22/100\n",
            "71/71 [==============================] - 41s 572ms/step - loss: 0.9455 - acc: 0.6580 - val_loss: 0.8799 - val_acc: 0.6484\n",
            "\n",
            "Epoch 00022: val_acc improved from 0.64840 to 0.64840, saving model to trained_model.h5\n",
            "Epoch 23/100\n",
            "71/71 [==============================] - 42s 587ms/step - loss: 0.9960 - acc: 0.6412 - val_loss: 0.9106 - val_acc: 0.6712\n",
            "\n",
            "Epoch 00023: val_acc improved from 0.64840 to 0.67123, saving model to trained_model.h5\n",
            "Epoch 24/100\n",
            "71/71 [==============================] - 41s 572ms/step - loss: 0.9626 - acc: 0.6580 - val_loss: 0.9629 - val_acc: 0.6438\n",
            "\n",
            "Epoch 00024: val_acc did not improve from 0.67123\n",
            "Epoch 25/100\n",
            "71/71 [==============================] - 42s 596ms/step - loss: 0.9262 - acc: 0.6646 - val_loss: 0.8696 - val_acc: 0.6786\n",
            "\n",
            "Epoch 00025: val_acc improved from 0.67123 to 0.67857, saving model to trained_model.h5\n",
            "Epoch 26/100\n",
            "71/71 [==============================] - 41s 583ms/step - loss: 0.8735 - acc: 0.6782 - val_loss: 1.0690 - val_acc: 0.5753\n",
            "\n",
            "Epoch 00026: val_acc did not improve from 0.67857\n",
            "Epoch 27/100\n",
            "71/71 [==============================] - 42s 586ms/step - loss: 0.9080 - acc: 0.6699 - val_loss: 0.9841 - val_acc: 0.6256\n",
            "\n",
            "Epoch 00027: val_acc did not improve from 0.67857\n",
            "Epoch 28/100\n",
            "71/71 [==============================] - 41s 578ms/step - loss: 0.9000 - acc: 0.6686 - val_loss: 0.8693 - val_acc: 0.6712\n",
            "\n",
            "Epoch 00028: val_acc did not improve from 0.67857\n",
            "Epoch 29/100\n",
            "71/71 [==============================] - 41s 583ms/step - loss: 0.8689 - acc: 0.6822 - val_loss: 1.0457 - val_acc: 0.6484\n",
            "\n",
            "Epoch 00029: val_acc did not improve from 0.67857\n",
            "Epoch 30/100\n",
            "71/71 [==============================] - 42s 592ms/step - loss: 0.8840 - acc: 0.6867 - val_loss: 1.0266 - val_acc: 0.6119\n",
            "\n",
            "Epoch 00030: val_acc did not improve from 0.67857\n",
            "Epoch 31/100\n",
            "71/71 [==============================] - 41s 573ms/step - loss: 0.9575 - acc: 0.6501 - val_loss: 0.8777 - val_acc: 0.6758\n",
            "\n",
            "Epoch 00031: val_acc did not improve from 0.67857\n",
            "Epoch 32/100\n",
            "71/71 [==============================] - 43s 599ms/step - loss: 0.8091 - acc: 0.7020 - val_loss: 0.9026 - val_acc: 0.6849\n",
            "\n",
            "Epoch 00032: val_acc improved from 0.67857 to 0.68493, saving model to trained_model.h5\n",
            "Epoch 33/100\n",
            "71/71 [==============================] - 41s 573ms/step - loss: 0.8071 - acc: 0.7069 - val_loss: 0.9512 - val_acc: 0.6607\n",
            "\n",
            "Epoch 00033: val_acc did not improve from 0.68493\n",
            "Epoch 34/100\n",
            "71/71 [==============================] - 41s 578ms/step - loss: 0.8372 - acc: 0.7077 - val_loss: 0.9063 - val_acc: 0.6667\n",
            "\n",
            "Epoch 00034: val_acc did not improve from 0.68493\n",
            "Epoch 35/100\n",
            "71/71 [==============================] - 41s 580ms/step - loss: 0.8130 - acc: 0.7131 - val_loss: 0.8343 - val_acc: 0.6712\n",
            "\n",
            "Epoch 00035: val_acc did not improve from 0.68493\n",
            "Epoch 36/100\n",
            "71/71 [==============================] - 42s 591ms/step - loss: 0.7328 - acc: 0.7364 - val_loss: 0.8443 - val_acc: 0.6849\n",
            "\n",
            "Epoch 00036: val_acc improved from 0.68493 to 0.68493, saving model to trained_model.h5\n",
            "Epoch 37/100\n",
            "71/71 [==============================] - 41s 576ms/step - loss: 0.7789 - acc: 0.7244 - val_loss: 0.9690 - val_acc: 0.6438\n",
            "\n",
            "Epoch 00037: val_acc did not improve from 0.68493\n",
            "Epoch 38/100\n",
            "71/71 [==============================] - 41s 579ms/step - loss: 0.7181 - acc: 0.7368 - val_loss: 0.7803 - val_acc: 0.6986\n",
            "\n",
            "Epoch 00038: val_acc improved from 0.68493 to 0.69863, saving model to trained_model.h5\n",
            "Epoch 39/100\n",
            "71/71 [==============================] - 41s 584ms/step - loss: 0.7893 - acc: 0.7131 - val_loss: 0.9132 - val_acc: 0.6804\n",
            "\n",
            "Epoch 00039: val_acc did not improve from 0.69863\n",
            "Epoch 40/100\n",
            "71/71 [==============================] - 42s 596ms/step - loss: 0.7619 - acc: 0.7298 - val_loss: 0.7336 - val_acc: 0.7534\n",
            "\n",
            "Epoch 00040: val_acc improved from 0.69863 to 0.75342, saving model to trained_model.h5\n",
            "Epoch 41/100\n",
            "71/71 [==============================] - 42s 588ms/step - loss: 0.6922 - acc: 0.7530 - val_loss: 0.8523 - val_acc: 0.6875\n",
            "\n",
            "Epoch 00041: val_acc did not improve from 0.75342\n",
            "Epoch 42/100\n"
          ],
          "name": "stdout"
        },
        {
          "output_type": "stream",
          "text": [
            "71/71 [==============================] - 41s 577ms/step - loss: 0.7644 - acc: 0.7284 - val_loss: 0.7812 - val_acc: 0.7169\n",
            "\n",
            "Epoch 00042: val_acc did not improve from 0.75342\n",
            "Epoch 43/100\n",
            "71/71 [==============================] - 41s 581ms/step - loss: 0.7564 - acc: 0.7350 - val_loss: 0.8159 - val_acc: 0.7032\n",
            "\n",
            "Epoch 00043: val_acc did not improve from 0.75342\n",
            "Epoch 44/100\n",
            "71/71 [==============================] - 41s 576ms/step - loss: 0.6941 - acc: 0.7579 - val_loss: 0.7753 - val_acc: 0.7352\n",
            "\n",
            "Epoch 00044: val_acc did not improve from 0.75342\n",
            "Epoch 45/100\n",
            "71/71 [==============================] - 42s 592ms/step - loss: 0.6958 - acc: 0.7482 - val_loss: 0.8418 - val_acc: 0.6804\n",
            "\n",
            "Epoch 00045: val_acc did not improve from 0.75342\n",
            "Epoch 46/100\n",
            "71/71 [==============================] - 42s 586ms/step - loss: 0.7770 - acc: 0.7254 - val_loss: 0.7964 - val_acc: 0.7260\n",
            "\n",
            "Epoch 00046: val_acc did not improve from 0.75342\n",
            "Epoch 47/100\n",
            "71/71 [==============================] - 42s 589ms/step - loss: 0.7101 - acc: 0.7360 - val_loss: 0.9237 - val_acc: 0.6941\n",
            "\n",
            "Epoch 00047: val_acc did not improve from 0.75342\n",
            "Epoch 48/100\n",
            "71/71 [==============================] - 42s 593ms/step - loss: 0.7108 - acc: 0.7474 - val_loss: 0.7908 - val_acc: 0.7078\n",
            "\n",
            "Epoch 00048: val_acc did not improve from 0.75342\n",
            "Epoch 49/100\n",
            "71/71 [==============================] - 41s 574ms/step - loss: 0.7463 - acc: 0.7324 - val_loss: 0.8249 - val_acc: 0.7009\n",
            "\n",
            "Epoch 00049: val_acc did not improve from 0.75342\n",
            "Epoch 50/100\n",
            "71/71 [==============================] - 42s 589ms/step - loss: 0.7491 - acc: 0.7254 - val_loss: 0.8616 - val_acc: 0.7260\n",
            "\n",
            "Epoch 00050: val_acc did not improve from 0.75342\n",
            "Epoch 51/100\n",
            "71/71 [==============================] - 41s 577ms/step - loss: 0.6860 - acc: 0.7531 - val_loss: 0.7501 - val_acc: 0.7306\n",
            "\n",
            "Epoch 00051: val_acc did not improve from 0.75342\n",
            "Epoch 52/100\n",
            "71/71 [==============================] - 42s 588ms/step - loss: 0.6688 - acc: 0.7658 - val_loss: 0.8075 - val_acc: 0.7489\n",
            "\n",
            "Epoch 00052: val_acc did not improve from 0.75342\n",
            "Epoch 53/100\n",
            "71/71 [==============================] - 41s 580ms/step - loss: 0.6286 - acc: 0.7742 - val_loss: 0.8245 - val_acc: 0.7169\n",
            "\n",
            "Epoch 00053: val_acc did not improve from 0.75342\n",
            "Epoch 54/100\n",
            "71/71 [==============================] - 42s 593ms/step - loss: 0.6332 - acc: 0.7747 - val_loss: 0.7715 - val_acc: 0.7306\n",
            "\n",
            "Epoch 00054: val_acc did not improve from 0.75342\n",
            "Epoch 55/100\n",
            "71/71 [==============================] - 42s 594ms/step - loss: 0.6404 - acc: 0.7702 - val_loss: 0.8439 - val_acc: 0.7306\n",
            "\n",
            "Epoch 00055: val_acc did not improve from 0.75342\n",
            "Epoch 56/100\n",
            "71/71 [==============================] - 41s 571ms/step - loss: 0.6301 - acc: 0.7795 - val_loss: 0.8895 - val_acc: 0.6849\n",
            "\n",
            "Epoch 00056: val_acc did not improve from 0.75342\n",
            "Epoch 57/100\n",
            "71/71 [==============================] - 41s 578ms/step - loss: 0.6402 - acc: 0.7825 - val_loss: 0.8005 - val_acc: 0.7277\n",
            "\n",
            "Epoch 00057: val_acc did not improve from 0.75342\n",
            "Epoch 58/100\n",
            "71/71 [==============================] - 41s 580ms/step - loss: 0.6290 - acc: 0.7940 - val_loss: 0.7725 - val_acc: 0.6941\n",
            "\n",
            "Epoch 00058: val_acc did not improve from 0.75342\n",
            "Epoch 59/100\n",
            "71/71 [==============================] - 40s 565ms/step - loss: 0.6081 - acc: 0.7883 - val_loss: 0.7420 - val_acc: 0.7306\n",
            "\n",
            "Epoch 00059: val_acc did not improve from 0.75342\n",
            "Epoch 60/100\n",
            "71/71 [==============================] - 41s 577ms/step - loss: 0.5811 - acc: 0.8001 - val_loss: 0.7353 - val_acc: 0.7626\n",
            "\n",
            "Epoch 00060: val_acc improved from 0.75342 to 0.76256, saving model to trained_model.h5\n",
            "Epoch 61/100\n",
            "71/71 [==============================] - 42s 587ms/step - loss: 0.6289 - acc: 0.7799 - val_loss: 0.7729 - val_acc: 0.7534\n",
            "\n",
            "Epoch 00061: val_acc did not improve from 0.76256\n",
            "Epoch 62/100\n",
            "71/71 [==============================] - 41s 582ms/step - loss: 0.6292 - acc: 0.7830 - val_loss: 0.7764 - val_acc: 0.7489\n",
            "\n",
            "Epoch 00062: val_acc did not improve from 0.76256\n",
            "Epoch 63/100\n",
            "71/71 [==============================] - 42s 591ms/step - loss: 0.7017 - acc: 0.7531 - val_loss: 1.1250 - val_acc: 0.6164\n",
            "\n",
            "Epoch 00063: val_acc did not improve from 0.76256\n",
            "Epoch 64/100\n",
            "71/71 [==============================] - 41s 572ms/step - loss: 0.6897 - acc: 0.7641 - val_loss: 0.8679 - val_acc: 0.7260\n",
            "\n",
            "Epoch 00064: val_acc did not improve from 0.76256\n",
            "Epoch 65/100\n",
            "71/71 [==============================] - 42s 585ms/step - loss: 0.6390 - acc: 0.7781 - val_loss: 0.8628 - val_acc: 0.7054\n",
            "\n",
            "Epoch 00065: val_acc did not improve from 0.76256\n",
            "Epoch 66/100\n",
            "71/71 [==============================] - 41s 572ms/step - loss: 0.6115 - acc: 0.7901 - val_loss: 0.8107 - val_acc: 0.6758\n",
            "\n",
            "Epoch 00066: val_acc did not improve from 0.76256\n",
            "Epoch 67/100\n",
            "71/71 [==============================] - 41s 581ms/step - loss: 0.6163 - acc: 0.7874 - val_loss: 0.9231 - val_acc: 0.6804\n",
            "\n",
            "Epoch 00067: val_acc did not improve from 0.76256\n",
            "Epoch 68/100\n",
            "71/71 [==============================] - 42s 585ms/step - loss: 0.6271 - acc: 0.7703 - val_loss: 0.7422 - val_acc: 0.7580\n",
            "\n",
            "Epoch 00068: val_acc did not improve from 0.76256\n",
            "Epoch 69/100\n",
            "71/71 [==============================] - 42s 590ms/step - loss: 0.5899 - acc: 0.7971 - val_loss: 0.7759 - val_acc: 0.7443\n",
            "\n",
            "Epoch 00069: val_acc did not improve from 0.76256\n",
            "Epoch 70/100\n",
            "71/71 [==============================] - 42s 594ms/step - loss: 0.6053 - acc: 0.7821 - val_loss: 0.7573 - val_acc: 0.7078\n",
            "\n",
            "Epoch 00070: val_acc did not improve from 0.76256\n",
            "Epoch 71/100\n",
            "71/71 [==============================] - 41s 582ms/step - loss: 0.5656 - acc: 0.8015 - val_loss: 0.8043 - val_acc: 0.6986\n",
            "\n",
            "Epoch 00071: val_acc did not improve from 0.76256\n",
            "Epoch 72/100\n",
            "71/71 [==============================] - 41s 583ms/step - loss: 0.5426 - acc: 0.7967 - val_loss: 0.7555 - val_acc: 0.7489\n",
            "\n",
            "Epoch 00072: val_acc did not improve from 0.76256\n",
            "Epoch 73/100\n",
            "71/71 [==============================] - 41s 579ms/step - loss: 0.5146 - acc: 0.8125 - val_loss: 0.6586 - val_acc: 0.7366\n",
            "\n",
            "Epoch 00073: val_acc did not improve from 0.76256\n",
            "Epoch 74/100\n",
            "71/71 [==============================] - 42s 597ms/step - loss: 0.5266 - acc: 0.8112 - val_loss: 0.9757 - val_acc: 0.6941\n",
            "\n",
            "Epoch 00074: val_acc did not improve from 0.76256\n",
            "Epoch 75/100\n",
            "71/71 [==============================] - 41s 578ms/step - loss: 0.5764 - acc: 0.7905 - val_loss: 0.7903 - val_acc: 0.7443\n",
            "\n",
            "Epoch 00075: val_acc did not improve from 0.76256\n",
            "Epoch 76/100\n",
            "71/71 [==============================] - 43s 600ms/step - loss: 0.5483 - acc: 0.8081 - val_loss: 0.7636 - val_acc: 0.7443\n",
            "\n",
            "Epoch 00076: val_acc did not improve from 0.76256\n",
            "Epoch 77/100\n",
            "71/71 [==============================] - 41s 573ms/step - loss: 0.6038 - acc: 0.7910 - val_loss: 0.8549 - val_acc: 0.7215\n",
            "\n",
            "Epoch 00077: val_acc did not improve from 0.76256\n",
            "Epoch 78/100\n",
            "71/71 [==============================] - 41s 581ms/step - loss: 0.5185 - acc: 0.8191 - val_loss: 0.6701 - val_acc: 0.8037\n",
            "\n",
            "Epoch 00078: val_acc improved from 0.76256 to 0.80365, saving model to trained_model.h5\n",
            "Epoch 79/100\n",
            "71/71 [==============================] - 41s 583ms/step - loss: 0.5156 - acc: 0.8200 - val_loss: 0.8885 - val_acc: 0.7489\n",
            "\n",
            "Epoch 00079: val_acc did not improve from 0.80365\n",
            "Epoch 80/100\n",
            "71/71 [==============================] - 42s 593ms/step - loss: 0.5112 - acc: 0.8173 - val_loss: 0.6613 - val_acc: 0.7854\n",
            "\n",
            "Epoch 00080: val_acc did not improve from 0.80365\n",
            "Epoch 81/100\n",
            "71/71 [==============================] - 41s 576ms/step - loss: 0.5044 - acc: 0.8200 - val_loss: 0.7571 - val_acc: 0.7545\n",
            "\n",
            "Epoch 00081: val_acc did not improve from 0.80365\n",
            "Epoch 82/100\n",
            "71/71 [==============================] - 42s 587ms/step - loss: 0.5370 - acc: 0.8142 - val_loss: 0.7109 - val_acc: 0.7397\n",
            "\n",
            "Epoch 00082: val_acc did not improve from 0.80365\n",
            "Epoch 83/100\n",
            "71/71 [==============================] - 41s 575ms/step - loss: 0.5245 - acc: 0.8107 - val_loss: 0.6313 - val_acc: 0.7534\n",
            "\n",
            "Epoch 00083: val_acc did not improve from 0.80365\n",
            "Epoch 84/100\n",
            "71/71 [==============================] - 42s 598ms/step - loss: 0.5758 - acc: 0.8015 - val_loss: 0.9145 - val_acc: 0.6895\n",
            "\n",
            "Epoch 00084: val_acc did not improve from 0.80365\n",
            "Epoch 85/100\n",
            "71/71 [==============================] - 41s 578ms/step - loss: 0.5543 - acc: 0.8059 - val_loss: 0.8314 - val_acc: 0.7443\n"
          ],
          "name": "stdout"
        },
        {
          "output_type": "stream",
          "text": [
            "\n",
            "Epoch 00085: val_acc did not improve from 0.80365\n",
            "Epoch 86/100\n",
            "71/71 [==============================] - 40s 569ms/step - loss: 0.5456 - acc: 0.8103 - val_loss: 0.8457 - val_acc: 0.7260\n",
            "\n",
            "Epoch 00086: val_acc did not improve from 0.80365\n",
            "Epoch 87/100\n",
            "71/71 [==============================] - 42s 590ms/step - loss: 0.5376 - acc: 0.8147 - val_loss: 0.8162 - val_acc: 0.7169\n",
            "\n",
            "Epoch 00087: val_acc did not improve from 0.80365\n",
            "Epoch 88/100\n",
            "71/71 [==============================] - 40s 566ms/step - loss: 0.5302 - acc: 0.8213 - val_loss: 0.7854 - val_acc: 0.7397\n",
            "\n",
            "Epoch 00088: val_acc did not improve from 0.80365\n",
            "Epoch 89/100\n",
            "71/71 [==============================] - 42s 594ms/step - loss: 0.4811 - acc: 0.8297 - val_loss: 0.8442 - val_acc: 0.7411\n",
            "\n",
            "Epoch 00089: val_acc did not improve from 0.80365\n",
            "Epoch 90/100\n",
            "71/71 [==============================] - 41s 575ms/step - loss: 0.5258 - acc: 0.8082 - val_loss: 0.8812 - val_acc: 0.7352\n",
            "\n",
            "Epoch 00090: val_acc did not improve from 0.80365\n",
            "Epoch 91/100\n",
            "71/71 [==============================] - 43s 604ms/step - loss: 0.4918 - acc: 0.8319 - val_loss: 0.8000 - val_acc: 0.7260\n",
            "\n",
            "Epoch 00091: val_acc did not improve from 0.80365\n",
            "Epoch 92/100\n",
            "71/71 [==============================] - 41s 578ms/step - loss: 0.4593 - acc: 0.8446 - val_loss: 1.0164 - val_acc: 0.7352\n",
            "\n",
            "Epoch 00092: val_acc did not improve from 0.80365\n",
            "Epoch 93/100\n",
            "71/71 [==============================] - 42s 588ms/step - loss: 0.4794 - acc: 0.8297 - val_loss: 0.8668 - val_acc: 0.7534\n",
            "\n",
            "Epoch 00093: val_acc did not improve from 0.80365\n",
            "Epoch 94/100\n",
            "71/71 [==============================] - 41s 571ms/step - loss: 0.5140 - acc: 0.8248 - val_loss: 0.7417 - val_acc: 0.7671\n",
            "\n",
            "Epoch 00094: val_acc did not improve from 0.80365\n",
            "Epoch 95/100\n",
            "71/71 [==============================] - 42s 588ms/step - loss: 0.4820 - acc: 0.8301 - val_loss: 0.9259 - val_acc: 0.7123\n",
            "\n",
            "Epoch 00095: val_acc did not improve from 0.80365\n",
            "Epoch 96/100\n",
            "71/71 [==============================] - 41s 579ms/step - loss: 0.5039 - acc: 0.8296 - val_loss: 1.0110 - val_acc: 0.6941\n",
            "\n",
            "Epoch 00096: val_acc did not improve from 0.80365\n",
            "Epoch 97/100\n",
            "71/71 [==============================] - 41s 578ms/step - loss: 0.5238 - acc: 0.8187 - val_loss: 0.7729 - val_acc: 0.7455\n",
            "\n",
            "Epoch 00097: val_acc did not improve from 0.80365\n",
            "Epoch 98/100\n",
            "71/71 [==============================] - 42s 598ms/step - loss: 0.4765 - acc: 0.8406 - val_loss: 0.9194 - val_acc: 0.7306\n",
            "\n",
            "Epoch 00098: val_acc did not improve from 0.80365\n",
            "Epoch 99/100\n",
            "71/71 [==============================] - 42s 586ms/step - loss: 0.5160 - acc: 0.8125 - val_loss: 0.9263 - val_acc: 0.7352\n",
            "\n",
            "Epoch 00099: val_acc did not improve from 0.80365\n",
            "Epoch 100/100\n",
            "71/71 [==============================] - 41s 575ms/step - loss: 0.4960 - acc: 0.8301 - val_loss: 0.7910 - val_acc: 0.7260\n",
            "\n",
            "Epoch 00100: val_acc did not improve from 0.80365\n"
          ],
          "name": "stdout"
        }
      ]
    },
    {
      "cell_type": "markdown",
      "metadata": {
        "id": "8mDhRMIUf_gy"
      },
      "source": [
        "# Testing PREDICTION \n",
        "##### Note: Path is of training dataset (pl. don't mind)"
      ]
    },
    {
      "cell_type": "code",
      "metadata": {
        "id": "-cO4ZEWBf_g0",
        "outputId": "76b11d8b-25d4-4474-8468-d2e28237111e"
      },
      "source": [
        "from keras.preprocessing import image\n",
        "\n",
        "img_path = '../input/garbage classification/Garbage classification/plastic/plastic75.jpg'\n",
        "\n",
        "img = image.load_img(img_path, target_size=(300, 300))\n",
        "img = image.img_to_array(img, dtype=np.uint8)\n",
        "img=np.array(img)/255.0\n",
        "\n",
        "plt.title(\"Loaded Image\")\n",
        "plt.axis('off')\n",
        "plt.imshow(img.squeeze())\n",
        "\n",
        "p=model.predict(img[np.newaxis, ...])\n",
        "\n",
        "#print(\"Predicted shape\",p.shape)\n",
        "print(\"Maximum Probability: \",np.max(p[0], axis=-1))\n",
        "predicted_class = labels[np.argmax(p[0], axis=-1)]\n",
        "print(\"Classified:\",predicted_class)\n",
        "\n"
      ],
      "execution_count": null,
      "outputs": [
        {
          "output_type": "stream",
          "text": [
            "Maximum Probability:  0.9998971\n",
            "Classified: plastic\n"
          ],
          "name": "stdout"
        },
        {
          "output_type": "display_data",
          "data": {
            "image/png": "[encoded data removed]",
            "text/plain": [
              "<Figure size 432x288 with 1 Axes>"
            ]
          },
          "metadata": {
            "tags": [],
            "needs_background": "light"
          }
        }
      ]
    },
    {
      "cell_type": "code",
      "metadata": {
        "id": "aB1K5Di2f_hD",
        "outputId": "9e9aaad0-8691-480a-b086-20e5982ee1ae"
      },
      "source": [
        "classes=[]\n",
        "prob=[]\n",
        "print(\"\\n-------------------Individual Probability--------------------------------\\n\")\n",
        "\n",
        "for i,j in enumerate (p[0],0):\n",
        "    print(labels[i].upper(),':',round(j*100,2),'%')\n",
        "    classes.append(labels[i])\n",
        "    prob.append(round(j*100,2))\n",
        "    \n",
        "def plot_bar_x():\n",
        "    # this is for plotting purpose\n",
        "    index = np.arange(len(classes))\n",
        "    plt.bar(index, prob)\n",
        "    plt.xlabel('Labels', fontsize=12)\n",
        "    plt.ylabel('Probability', fontsize=12)\n",
        "    plt.xticks(index, classes, fontsize=12, rotation=20)\n",
        "    plt.title('Probability for loaded image')\n",
        "    plt.show()\n",
        "plot_bar_x()"
      ],
      "execution_count": null,
      "outputs": [
        {
          "output_type": "stream",
          "text": [
            "\n",
            "-------------------Individual Probability--------------------------------\n",
            "\n",
            "CARDBOARD : 0.0 %\n",
            "GLASS : 0.01 %\n",
            "METAL : 0.0 %\n",
            "PAPER : 0.0 %\n",
            "PLASTIC : 99.99 %\n",
            "TRASH : 0.0 %\n"
          ],
          "name": "stdout"
        },
        {
          "output_type": "display_data",
          "data": {
            "image/png": "[encoded data removed]",
            "text/plain": [
              "<Figure size 432x288 with 1 Axes>"
            ]
          },
          "metadata": {
            "tags": [],
            "needs_background": "light"
          }
        }
      ]
    },
    {
      "cell_type": "markdown",
      "metadata": {
        "id": "D-aCZ8Jdf_hN"
      },
      "source": [
        "# Accuracy Graph"
      ]
    },
    {
      "cell_type": "code",
      "metadata": {
        "id": "fN3RTAymf_hQ",
        "outputId": "4877be65-c211-4148-db5c-c63d0897e995"
      },
      "source": [
        "acc = history.history['acc']\n",
        "val_acc = history.history['val_acc']\n",
        "\n",
        "loss = history.history['loss']\n",
        "val_loss = history.history['val_loss']\n",
        "\n",
        "# ________________ Graph 1 -------------------------\n",
        "\n",
        "plt.figure(figsize=(8, 8))\n",
        "plt.subplot(2, 1, 1)\n",
        "plt.plot(acc, label='Training Accuracy')\n",
        "plt.plot(val_acc, label='Validation Accuracy')\n",
        "plt.legend(loc='lower right')\n",
        "plt.ylabel('Accuracy')\n",
        "plt.ylim([min(plt.ylim()),1])\n",
        "plt.title('Training and Validation Accuracy')\n",
        "\n",
        "# ________________ Graph 2 -------------------------\n",
        "\n",
        "plt.subplot(2, 1, 2)\n",
        "plt.plot(loss, label='Training Loss')\n",
        "plt.plot(val_loss, label='Validation Loss')\n",
        "plt.legend(loc='upper right')\n",
        "plt.ylabel('Cross Entropy')\n",
        "plt.ylim([0,max(plt.ylim())])\n",
        "plt.title('Training and Validation Loss')\n",
        "plt.show()"
      ],
      "execution_count": null,
      "outputs": [
        {
          "output_type": "display_data",
          "data": {
            "image/png": "[encoded data removed]",
            "text/plain": [
              "<Figure size 576x576 with 2 Axes>"
            ]
          },
          "metadata": {
            "tags": [],
            "needs_background": "light"
          }
        }
      ]
    },
    {
      "cell_type": "markdown",
      "metadata": {
        "id": "Q43tVpU0f_hj"
      },
      "source": [
        "## Converting to TFLite\n",
        "#### Note: Image Size is 300"
      ]
    },
    {
      "cell_type": "code",
      "metadata": {
        "id": "DdvHK6uDf_hl",
        "outputId": "56277e86-83ff-4a4a-f23a-977bd547762e"
      },
      "source": [
        "import tensorflow as tf\n",
        "import keras\n",
        "file = \"Garbage.h5\"\n",
        "keras.models.save_model(model,file)\n",
        "converter = tf.lite.TFLiteConverter.from_keras_model_file(file)\n",
        "tflite_model=converter.convert()\n",
        "open(\"garbage.tflite\",'wb').write(tflite_model)"
      ],
      "execution_count": null,
      "outputs": [
        {
          "output_type": "execute_result",
          "data": {
            "text/plain": [
              "11378584"
            ]
          },
          "metadata": {
            "tags": []
          },
          "execution_count": 119
        }
      ]
    },
    {
      "cell_type": "markdown",
      "metadata": {
        "id": "XCRZxbIbf_hw"
      },
      "source": [
        "# Getting files from kernel"
      ]
    },
    {
      "cell_type": "code",
      "metadata": {
        "id": "prll-2VWf_h4",
        "outputId": "3d2d56d9-2dbb-422e-f87f-e3937f6a1631"
      },
      "source": [
        "from IPython.display import FileLinks\n",
        "FileLinks('.')"
      ],
      "execution_count": null,
      "outputs": [
        {
          "output_type": "execute_result",
          "data": {
            "text/html": [
              "./<br>\n",
              "&nbsp;&nbsp;<a href='./__notebook_source__.ipynb' target='_blank'>__notebook_source__.ipynb</a><br>\n",
              "&nbsp;&nbsp;<a href='./labels.txt' target='_blank'>labels.txt</a><br>\n",
              "&nbsp;&nbsp;<a href='./Garbage.h5' target='_blank'>Garbage.h5</a><br>\n",
              "&nbsp;&nbsp;<a href='./garbage.tflite' target='_blank'>garbage.tflite</a><br>\n",
              "&nbsp;&nbsp;<a href='./trained_model.h5' target='_blank'>trained_model.h5</a><br>"
            ],
            "text/plain": [
              "./\n",
              "  __notebook_source__.ipynb\n",
              "  labels.txt\n",
              "  Garbage.h5\n",
              "  garbage.tflite\n",
              "  trained_model.h5"
            ]
          },
          "metadata": {
            "tags": []
          },
          "execution_count": 120
        }
      ]
    }
  ]
}